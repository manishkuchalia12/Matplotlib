{
 "cells": [
  {
   "cell_type": "markdown",
   "id": "bc03e6e9-ad41-4925-95d3-425f1dc51999",
   "metadata": {},
   "source": [
    "Q1: What is Matplotlib? Why is it used? Name five plots that can be plotted using the Pyplot module of\n",
    "Matplotlib.\n",
    "Ans:-Matplotlib:\r\n",
    "Matplotlib is a 2D plotting library for Python that produces high-quality static, animated, and interactive visualizations in Python. It provides a flexible and extensive set of plotting tools for creating various types of plots and charts.\r\n",
    "\r\n",
    "Why is it used?\r\n",
    "Matplotlib is widely used for data visualization and exploration in various fields such as scientific research, engineering, finance, and data analysis. It is known for its simplicity, flexibility, and ability to create a wide range of plots and charts. Some key reasons for using Matplotlib include:"
   ]
  },
  {
   "cell_type": "markdown",
   "id": "e2ba8884-9c60-44cd-9c46-6aa9381c0a07",
   "metadata": {},
   "source": [
    "Q2: What is a scatter plot? Use the following code to generate data for x and y. Using this generated data\n",
    "plot a scatter plot.\n",
    "import numpy as np\n",
    "np.random.seed(3)\n",
    "x = 3 + np.random.normal(0, 2, 50)\n",
    "y = 3 + np.random.normal(0, 2, len(x))\n",
    "Note: Also add title, xlabel, and ylabel to the plot."
   ]
  },
  {
   "cell_type": "code",
   "execution_count": null,
   "id": "c48699f5-9251-4b94-8ce6-66274346cd92",
   "metadata": {},
   "outputs": [],
   "source": [
    "import numpy as np\n",
    "import matplotlib.pyplot as plt\n",
    "\n",
    "# Generate data for x and y\n",
    "np.random.seed(3)\n",
    "x = 3 + np.random.normal(0, 2, 50)\n",
    "y = 3 + np.random.normal(0, 2, len(x))\n",
    "\n",
    "# Create a scatter plot\n",
    "plt.scatter(x, y)\n",
    "\n",
    "# Add title and labels\n",
    "plt.title('Scatter Plot')\n",
    "plt.xlabel('X-axis')\n",
    "plt.ylabel('Y-axis')\n",
    "\n",
    "# Show the plot\n",
    "plt.show()\n"
   ]
  },
  {
   "cell_type": "markdown",
   "id": "c31cc74e-6983-4577-9f07-a9bb581ce508",
   "metadata": {},
   "source": [
    "Q3: Why is the subplot() function used? Draw four line plots using the subplot() function.\n",
    "Use the following data:\n",
    "import numpy as np\n",
    "For line 1: x = np.array([0, 1, 2, 3, 4, 5]) and y = np.array([0, 100, 200, 300, 400, 500])\n",
    "For line 2: x = np.array([0, 1, 2, 3, 4, 5]) and y = np.array([50, 20, 40, 20, 60, 70])\n",
    "For line 3: x = np.array([0, 1, 2, 3, 4, 5]) and y = np.array([10, 20, 30, 40, 50, 60])\n",
    "For line 4: x = np.array([0, 1, 2, 3, 4, 5]) and y = np.array([200, 350, 250, 550, 450, 150])"
   ]
  },
  {
   "cell_type": "markdown",
   "id": "2534247c-7be0-4ee8-a457-9ebb891bd252",
   "metadata": {},
   "source": [
    "ANs:-subplot() Function:\n",
    "The subplot() function in Matplotlib is used to create multiple plots in the same figure. It allows you to create a grid of subplots and specify which subplot you want to draw in."
   ]
  },
  {
   "cell_type": "code",
   "execution_count": null,
   "id": "d8d6d727-c43d-4742-b4dc-4561d95f1db2",
   "metadata": {},
   "outputs": [],
   "source": [
    "import numpy as np\n",
    "import matplotlib.pyplot as plt\n",
    "\n",
    "# Data for the four lines\n",
    "x = np.array([0, 1, 2, 3, 4, 5])\n",
    "\n",
    "y1 = np.array([0, 100, 200, 300, 400, 500])\n",
    "y2 = np.array([50, 20, 40, 20, 60, 70])\n",
    "y3 = np.array([10, 20, 30, 40, 50, 60])\n",
    "y4 = np.array([200, 350, 250, 550, 450, 150])\n",
    "\n",
    "# Create subplots\n",
    "plt.subplot(2, 2, 1)\n",
    "plt.plot(x, y1)\n",
    "plt.title('Line Plot 1')\n",
    "\n",
    "plt.subplot(2, 2, 2)\n",
    "plt.plot(x, y2)\n",
    "plt.title('Line Plot 2')\n",
    "\n",
    "plt.subplot(2, 2, 3)\n",
    "plt.plot(x, y3)\n",
    "plt.title('Line Plot 3')\n",
    "\n",
    "plt.subplot(2, 2, 4)\n",
    "plt.plot(x, y4)\n",
    "plt.title('Line Plot 4')\n",
    "\n",
    "# Adjust layout for better appearance\n",
    "plt.tight_layout()\n",
    "\n",
    "# Show the plots\n",
    "plt.show()\n"
   ]
  },
  {
   "cell_type": "markdown",
   "id": "b8e53435-580c-4889-9d0f-648d2f1037ae",
   "metadata": {},
   "source": [
    "Q4: What is a bar plot? Why is it used? Using the following data plot a bar plot and a horizontal bar plot.\n",
    "import numpy as np\n",
    "company = np.array([\"Apple\", \"Microsoft\", \"Google\", \"AMD\"])\n",
    "profit = np.array([3000, 8000, 1000, 10000])\n",
    "ANs:-\r\n",
    "Bar Plot:\r\n",
    "A bar plot (or bar chart) is a visualization that presents categorical data with rectangular bars. The lengths of the bars are proportional to the values they represent. Bar plots are used to compare and display the values of different categories or groups.\r\n",
    "\r\n",
    "Why is it used:\r\n",
    "\r\n",
    "Comparison: Bar plots make it easy to compare the values of different categories visually.\r\n",
    "Categorical Data: They are particularly useful for visualizing categorical data and showing the distribution of values among different groups.\r\n",
    "Readability: Bar plots are clear and easy to interpret, making them suitable for conveying information to a wide audience."
   ]
  },
  {
   "cell_type": "code",
   "execution_count": null,
   "id": "8bf4dae2-7e07-47a9-9dad-34059605e89a",
   "metadata": {},
   "outputs": [],
   "source": [
    "import numpy as np\n",
    "import matplotlib.pyplot as plt\n",
    "\n",
    "# Data\n",
    "company = np.array([\"Apple\", \"Microsoft\", \"Google\", \"AMD\"])\n",
    "profit = np.array([3000, 8000, 1000, 10000])\n",
    "\n",
    "# Bar Plot\n",
    "plt.figure(figsize=(8, 5))\n",
    "plt.bar(company, profit, color='skyblue')\n",
    "plt.title('Profit of Companies')\n",
    "plt.xlabel('Company')\n",
    "plt.ylabel('Profit (in millions)')\n",
    "plt.show()\n",
    "\n",
    "# Horizontal Bar Plot\n",
    "plt.figure(figsize=(8, 5))\n",
    "plt.barh(company, profit, color='salmon')\n",
    "plt.title('Profit of Companies (Horizontal)')\n",
    "plt.xlabel('Profit (in millions)')\n",
    "plt.ylabel('Company')\n",
    "plt.show()\n"
   ]
  },
  {
   "cell_type": "markdown",
   "id": "c7430bf1-8a41-428f-935a-aa0dddbf8b35",
   "metadata": {},
   "source": [
    "Q5: What is a box plot? Why is it used? Using the following data plot a box plot.\n",
    "box1 = np.random.normal(100, 10, 200)\n",
    "box2 = np.random.normal(90, 20, 200)\n",
    "Ans:-Box Plot:\r\n",
    "A box plot, also known as a box-and-whisker plot, is a graphical representation of the distribution of a dataset. It displays the minimum, first quartile (Q1), median (Q2), third quartile (Q3), and maximum of a dataset, providing a summary of the central tendency and spread of the data.\r\n",
    "\r\n",
    "Why is it used:\r\n",
    "\r\n",
    "Summary of Distribution: A box plot provides a concise summary of the distribution of a dataset, including the presence of outliers.\r\n",
    "Comparison: It allows for easy visual comparison of multiple datasets.\r\n",
    "Identification of Outliers: Outliers can be identified as points beyond the \"whiskers\" of the box plot."
   ]
  }
 ],
 "metadata": {
  "kernelspec": {
   "display_name": "Python 3 (ipykernel)",
   "language": "python",
   "name": "python3"
  },
  "language_info": {
   "codemirror_mode": {
    "name": "ipython",
    "version": 3
   },
   "file_extension": ".py",
   "mimetype": "text/x-python",
   "name": "python",
   "nbconvert_exporter": "python",
   "pygments_lexer": "ipython3",
   "version": "3.12.0"
  }
 },
 "nbformat": 4,
 "nbformat_minor": 5
}
